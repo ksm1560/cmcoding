{
  "nbformat": 4,
  "nbformat_minor": 0,
  "metadata": {
    "colab": {
      "provenance": [],
      "authorship_tag": "ABX9TyONOgEhLsxEzo1gclx/KbWf",
      "include_colab_link": true
    },
    "kernelspec": {
      "name": "python3",
      "display_name": "Python 3"
    },
    "language_info": {
      "name": "python"
    }
  },
  "cells": [
    {
      "cell_type": "markdown",
      "metadata": {
        "id": "view-in-github",
        "colab_type": "text"
      },
      "source": [
        "<a href=\"https://colab.research.google.com/github/ksm1560/cmcoding/blob/master/GPT%EC%BD%94%EB%94%A9_%ED%8C%8C%EC%9D%B4%EC%8D%AC_%EA%B8%B0%EC%B4%88.ipynb\" target=\"_parent\"><img src=\"https://colab.research.google.com/assets/colab-badge.svg\" alt=\"Open In Colab\"/></a>"
      ]
    },
    {
      "cell_type": "markdown",
      "source": [
        "#파이썬 기초\n"
      ],
      "metadata": {
        "id": "iyDb5qML-2ZZ"
      }
    },
    {
      "cell_type": "code",
      "execution_count": null,
      "metadata": {
        "id": "6dFJzI1h-0Yx"
      },
      "outputs": [],
      "source": [
        "#코랩 사용법 바드에게 물어보기. 텍스트로 정리해보기\n"
      ]
    },
    {
      "cell_type": "markdown",
      "source": [
        "# 1. 변수와 기본 자료형\n",
        "### 출력하기 print\n",
        "- print()\n",
        "- 문자열에 “ “ 또는 ‘ ‘\n",
        "- 이스케이프문자 : \\”(큰 따옴표) \\’(작은 따옴표) \\t(탭) \\\\(역슬러시) \\n (줄바꿈)\n"
      ],
      "metadata": {
        "id": "YLx6NfeJAJzQ"
      }
    },
    {
      "cell_type": "code",
      "source": [
        "# 초보자를 위한 기초300제 https://wikidocs.net/7014"
      ],
      "metadata": {
        "id": "EDlxq7L2WA5y"
      },
      "execution_count": null,
      "outputs": []
    },
    {
      "cell_type": "markdown",
      "source": [
        "## 1) 기본 데이터 타입\n",
        "\n",
        "### 문자\n",
        " - 문자 'p' : character (chr)\n",
        " - 문자열 'python' : string (str)\n",
        "\n",
        "\n",
        "### 숫자\n",
        " - 정수 0, 1, 2, -1 : integer (int)\n",
        " - 실수 0.3, 3.14 : float"
      ],
      "metadata": {
        "id": "eaAFqrhmCo1A"
      }
    },
    {
      "cell_type": "code",
      "source": [
        "#자료형을 확인하기 위해 type(0) 넣어보기\n"
      ],
      "metadata": {
        "id": "GfB9NizKrT92"
      },
      "execution_count": null,
      "outputs": []
    },
    {
      "cell_type": "code",
      "source": [
        "#사칙연산 활용하기\n",
        "# + - * / % ** // : 더하기 빼기 곱하기 나누기(값) 나머지 제곱 몫\n",
        "#연산자 우선순위"
      ],
      "metadata": {
        "id": "Wb2DuIzArlBM"
      },
      "execution_count": null,
      "outputs": []
    },
    {
      "cell_type": "markdown",
      "source": [
        "## 2) 파이썬과 변수\n",
        "- 변수란 값을 저장하는 저장소\n",
        "- 변수란 변경할 수 있는 수\n",
        "- 변수 선언이란 메모리를 할당 받는 것\n",
        "- 변수에 값을 대입한다는 것은 메모리에 데이터를 저장하는 것\n",
        "- 변수를 사용한다는 것은 메모리에 저장된 데이터를 사용하는 것\n",
        "\n",
        "\n",
        "### 변수 명명규칙\n",
        "\n",
        "- 식별자는 영문, 한글, 숫자, “_” *사용가능 ex) Num_1*\n",
        "- 대문자와 소문자를 구별함 ex) name / Name\n",
        "- 문자와 숫자를 같이 사용할 수 있음 ex) num1/num2\n",
        "- 숫자로 시작할 수 없음 ex) 3num / 1name (x)\n",
        "- _ 이외의 특수문자 사용불가 ex) a+b(x)\n",
        "- 공백문자 사용불가 ex) a b(x)\n",
        "- 파이썬 keyword는 사용불가 ex) int / float (x)\n",
        "- 한눈에 보고 이해할 수 있는 변수를 만드는 것이 좋음\n",
        "\n",
        "### 입력 input()\n",
        "\n",
        "- a = input()   #a라는 변수에 입력을 받음\n",
        "\n",
        "- 문자열로 값이 들어옴. ***\n",
        "\n",
        "- 숫자 연산을 위할 경우 정수 또는 실수형으로 변환 int(), float()"
      ],
      "metadata": {
        "id": "gn-E72PBCyCl"
      }
    },
    {
      "cell_type": "code",
      "source": [
        "# 과자가 1500원 아이스크림이 1000원일때 과자 5개 아이스크림 7개 샀을 때 총 금액 출력하기"
      ],
      "metadata": {
        "id": "B4qfWQ2utJXd"
      },
      "execution_count": null,
      "outputs": []
    },
    {
      "cell_type": "code",
      "source": [
        "#원/달러 환율이 1290원일때 $900에 대한 원화를 계산해보기"
      ],
      "metadata": {
        "id": "o3vWaEPPtobR"
      },
      "execution_count": null,
      "outputs": []
    },
    {
      "cell_type": "code",
      "source": [],
      "metadata": {
        "id": "7XIR41-KSkGw"
      },
      "execution_count": null,
      "outputs": []
    },
    {
      "cell_type": "markdown",
      "source": [
        "## 3) 파이썬 문자열"
      ],
      "metadata": {
        "id": "MTLUvvJsDMw6"
      }
    },
    {
      "cell_type": "code",
      "source": [
        "#문자열이란"
      ],
      "metadata": {
        "id": "JwwZpBsMt2P4"
      },
      "execution_count": null,
      "outputs": []
    },
    {
      "cell_type": "code",
      "source": [
        "#문자열 연산하기 + 연결 * 반복"
      ],
      "metadata": {
        "id": "gdcVJqiet8h-"
      },
      "execution_count": null,
      "outputs": []
    },
    {
      "cell_type": "code",
      "source": [
        "#파이썬 주석 여러줄 주석"
      ],
      "metadata": {
        "id": "F3geVHIfuEEy"
      },
      "execution_count": null,
      "outputs": []
    },
    {
      "cell_type": "code",
      "source": [
        "#문자열 인덱싱 []"
      ],
      "metadata": {
        "id": "CmOiixpLuLwz"
      },
      "execution_count": null,
      "outputs": []
    },
    {
      "cell_type": "code",
      "source": [
        "#문자열 슬라이싱 [::]"
      ],
      "metadata": {
        "id": "N68orGv6uNvl"
      },
      "execution_count": null,
      "outputs": []
    },
    {
      "cell_type": "code",
      "source": [
        "#아무개님 주민등록번호는 801230-1234567입니다. 연월일 부분만 출력해보세요.\n",
        "reg_num = \"801230-1234567\""
      ],
      "metadata": {
        "id": "JDGOrhd8uYCT"
      },
      "execution_count": null,
      "outputs": []
    },
    {
      "cell_type": "code",
      "source": [
        "#다음 차량 번호에서 끝 번호 네 자리를 출력하세요.\n",
        "car_num = \"12가 1234\""
      ],
      "metadata": {
        "id": "2gZINbWBujpg"
      },
      "execution_count": null,
      "outputs": []
    },
    {
      "cell_type": "markdown",
      "source": [
        "## 4) 문자열 주요 함수\n",
        "- upper()\n",
        "- lower()\n",
        "- title()\n",
        "- split()\n",
        "- replace(이전,변경)\n",
        "- len()\n",
        "- 인덱스로 수정하기\n",
        "\n",
        "ex) a, b = input().split()  #공백으로 구분하여 a, b 변수에 나누어 담음\n",
        "\n",
        "- .split(”-”)  #-(하이픈)으로 구분 : . 등 다양하게 활용"
      ],
      "metadata": {
        "id": "R5FA_jaTEZie"
      }
    },
    {
      "cell_type": "code",
      "source": [
        "# .upper()   .lower()   .title()   .split()"
      ],
      "metadata": {
        "id": "umZU7-XpuvkJ"
      },
      "execution_count": null,
      "outputs": []
    },
    {
      "cell_type": "markdown",
      "source": [
        "## 5) 문자열 포매팅\n",
        "\n",
        "### 포맷 %\n",
        "\n",
        "- %s   문자열 String\n",
        "- %d   10진 정수 Decimal\n",
        "- %0o  8진 정수 Octal\n",
        "- %0x  16진 정수 Hexadecimal\n",
        "- %f    실수 float\n",
        "\n",
        "ex) print(”안녕하세요 %s 님. %d일째 방문 감사합니다” % (”수미”, 10))\n",
        "\n",
        "### 포맷함수 .format()\n",
        "\n",
        "- 기본구조 “...{}...{}”.format(변수1,변수2)\n",
        "\n",
        "ex) print(”안녕하세요 {}님. {}일째 방문 감사합니다”.format(a,b))\n",
        "\n",
        "### f-string\n",
        "\n",
        "- python 3.6버전부터 지원\n",
        "- 문자열 앞에 f가 붙은 형태\n",
        "- f-string을 사용하면 {변수}형태 출력 가능\n",
        "\n",
        "ex) name1 = “Tom”\n",
        "\n",
        "score1 = 90\n",
        "\n",
        "print(f”이름 : {name1} 성적 : {score1}”)"
      ],
      "metadata": {
        "id": "L43R8VGCEiHb"
      }
    },
    {
      "cell_type": "code",
      "source": [],
      "metadata": {
        "id": "rdmdjOH4MyH0"
      },
      "execution_count": null,
      "outputs": []
    },
    {
      "cell_type": "markdown",
      "source": [
        "## 6) 타입 변환\n",
        " - int()\n",
        " - float()\n",
        " - str()\n",
        " - ord()\n",
        " - list()\n",
        " - tuple()"
      ],
      "metadata": {
        "id": "2n6I6NTqEm1n"
      }
    },
    {
      "cell_type": "code",
      "source": [],
      "metadata": {
        "id": "2FMGSnQQNqvd"
      },
      "execution_count": null,
      "outputs": []
    },
    {
      "cell_type": "markdown",
      "source": [
        "# 자료구조"
      ],
      "metadata": {
        "id": "nYp7e-ykCNwG"
      }
    },
    {
      "cell_type": "markdown",
      "source": [
        "## 1) 리스트\n",
        "- a = [1,2,3]\n",
        "- 리스트추가 .append()\n",
        "- 리스트삽입 .insert(인덱스,원소)\n",
        "- 리스트 삭제 del 리스트[인덱스]\n",
        "- 리스트 확장 .extend()\n",
        "- 최대값 max(리스트)\n",
        "- 최솟값 min(리스트)\n",
        "- 리스트정렬 sorted(리스트, revers=True)\n",
        "- 원본정렬 .sort()\n",
        "- 리스트연결 +\n",
        "- 리스트 반복 *\n",
        "- 인덱스찾기 .index(원소)\n"
      ],
      "metadata": {
        "id": "z-GTDkm3FJAJ"
      }
    },
    {
      "cell_type": "code",
      "source": [],
      "metadata": {
        "id": "39Xx941aPUFQ"
      },
      "execution_count": null,
      "outputs": []
    },
    {
      "cell_type": "markdown",
      "source": [
        "## 2) 튜플\n",
        "- a = (1,2,3)"
      ],
      "metadata": {
        "id": "naBhVdrOFLOd"
      }
    },
    {
      "cell_type": "code",
      "source": [],
      "metadata": {
        "id": "hWwe1p7GQTLB"
      },
      "execution_count": null,
      "outputs": []
    },
    {
      "cell_type": "markdown",
      "source": [
        "## 3) 딕셔너리\n",
        "- a = {\"키\":값, \"키2\":값}"
      ],
      "metadata": {
        "id": "pj97rlGtFNGO"
      }
    },
    {
      "cell_type": "code",
      "source": [
        "-"
      ],
      "metadata": {
        "id": "t7kdLZmOQiJ1"
      },
      "execution_count": null,
      "outputs": []
    },
    {
      "cell_type": "markdown",
      "source": [
        "## 4) 이차원 데이터"
      ],
      "metadata": {
        "id": "EEBE62zxFO9v"
      }
    },
    {
      "cell_type": "markdown",
      "source": [
        "# 조건문"
      ],
      "metadata": {
        "id": "wkUGSl06CRVq"
      }
    },
    {
      "cell_type": "markdown",
      "source": [
        "## 1) Boolean타입\n",
        "- True\n",
        "- False"
      ],
      "metadata": {
        "id": "jIirUAUUFXw3"
      }
    },
    {
      "cell_type": "code",
      "source": [],
      "metadata": {
        "id": "j_-CgX63Rv7z"
      },
      "execution_count": null,
      "outputs": []
    },
    {
      "cell_type": "markdown",
      "source": [
        "## 2) 파이썬 조건문\n",
        " ### 비교연산자\n",
        "- == 같다\n",
        "- != 다르다\n",
        "- \\>  크다\n",
        "- \\<   작다\n",
        "- \\>= 크거나 같다\n",
        "- \\<= 작거나 같다\n",
        "\n",
        "### 논리연산자\n",
        "- and 논리 AND연산\n",
        "- or  논리 OR연산\n",
        "- not  논리 NOT연산\n",
        "\n",
        "### 조건문\n",
        "- if문\n",
        "- if ~ else문\n",
        "- if ~ elif ~ else문"
      ],
      "metadata": {
        "id": "vUIuipIAFaWL"
      }
    },
    {
      "cell_type": "code",
      "source": [],
      "metadata": {
        "id": "Yoot1qMWRwtx"
      },
      "execution_count": null,
      "outputs": []
    },
    {
      "cell_type": "markdown",
      "source": [
        "# 반복문\n",
        "### 할당연산자\n",
        "- = 할당연산자\n",
        "- +=\n",
        "- -=\n",
        "- *=\n",
        "- /=\n",
        "- %=\n",
        "- **=\n",
        "- //="
      ],
      "metadata": {
        "id": "5rNWXh4dCUQJ"
      }
    },
    {
      "cell_type": "markdown",
      "source": [
        "## 1) 파이썬 for 문 1\n",
        "- for i in 자료구조:"
      ],
      "metadata": {
        "id": "XwpThUIwFeVT"
      }
    },
    {
      "cell_type": "code",
      "source": [],
      "metadata": {
        "id": "Uss7XI_MSCXo"
      },
      "execution_count": null,
      "outputs": []
    },
    {
      "cell_type": "markdown",
      "source": [
        "## 2) 파이썬 for문 2\n",
        "- for와 딕셔너리\n",
        "- for와 range()\n",
        "- for i,v in enummerate()"
      ],
      "metadata": {
        "id": "9zNIpshcFiD0"
      }
    },
    {
      "cell_type": "code",
      "source": [],
      "metadata": {
        "id": "NU6C8jsRSFHT"
      },
      "execution_count": null,
      "outputs": []
    },
    {
      "cell_type": "markdown",
      "source": [
        "## 3) 반복문과 조건문"
      ],
      "metadata": {
        "id": "V_9gYt6dFmnP"
      }
    },
    {
      "cell_type": "code",
      "source": [],
      "metadata": {
        "id": "d_H1OQPISWLc"
      },
      "execution_count": null,
      "outputs": []
    },
    {
      "cell_type": "markdown",
      "source": [
        "## 4) break, continue, pass\n",
        "- break\n",
        "- continue\n",
        "- pass"
      ],
      "metadata": {
        "id": "izUkbZImFqcx"
      }
    },
    {
      "cell_type": "markdown",
      "source": [
        "## 5) while문"
      ],
      "metadata": {
        "id": "hE-DzO87FvSr"
      }
    },
    {
      "cell_type": "code",
      "source": [],
      "metadata": {
        "id": "HdOEyptCS4Lb"
      },
      "execution_count": null,
      "outputs": []
    },
    {
      "cell_type": "markdown",
      "source": [
        "## 6) 중첩루프"
      ],
      "metadata": {
        "id": "4DkP1YJ3FyF1"
      }
    },
    {
      "cell_type": "code",
      "source": [],
      "metadata": {
        "id": "rVYsw8ZQS4qS"
      },
      "execution_count": null,
      "outputs": []
    },
    {
      "cell_type": "markdown",
      "source": [
        "# 함수"
      ],
      "metadata": {
        "id": "cCGynFTaCWwa"
      }
    },
    {
      "cell_type": "markdown",
      "source": [
        "## 1)함수기초\n",
        "- 자주 사용하는 명령어를 만들어 사용\n",
        "- len, sum, abs, round\n",
        "- def 함수이름():"
      ],
      "metadata": {
        "id": "0bgDgc0jF20i"
      }
    },
    {
      "cell_type": "code",
      "source": [],
      "metadata": {
        "id": "wB28xe7pTP6r"
      },
      "execution_count": null,
      "outputs": []
    },
    {
      "cell_type": "markdown",
      "source": [
        "## 2) 입력값이 있는 함수"
      ],
      "metadata": {
        "id": "9xriJmkiF7rL"
      }
    },
    {
      "cell_type": "code",
      "source": [],
      "metadata": {
        "id": "dKGXMhRVTaFL"
      },
      "execution_count": null,
      "outputs": []
    },
    {
      "cell_type": "markdown",
      "source": [
        "## 3) 리턴값이 있는 함수"
      ],
      "metadata": {
        "id": "CAgtA_32GABC"
      }
    },
    {
      "cell_type": "code",
      "source": [],
      "metadata": {
        "id": "LxMF9w1sGI4z"
      },
      "execution_count": null,
      "outputs": []
    },
    {
      "cell_type": "markdown",
      "source": [
        "## 4) 함수 호출 과정의 이해"
      ],
      "metadata": {
        "id": "iVjyfs1PGCfl"
      }
    },
    {
      "cell_type": "code",
      "source": [],
      "metadata": {
        "id": "RTxkiS1OTaz0"
      },
      "execution_count": null,
      "outputs": []
    },
    {
      "cell_type": "markdown",
      "source": [
        "## 5) LEGB 규칙\n",
        "- L : Local 지역변수\n",
        "- E : Enclosed function local 함수내 범위\n",
        "- G : Global 전역변수\n",
        "- B : Built-in 파이썬 내장 함수"
      ],
      "metadata": {
        "id": "72E8YmAwGGxc"
      }
    },
    {
      "cell_type": "code",
      "source": [],
      "metadata": {
        "id": "OHT5beNkTboU"
      },
      "execution_count": null,
      "outputs": []
    },
    {
      "cell_type": "markdown",
      "source": [
        "# 모듈\n",
        "- 이미 만들어진 파이썬 코드파일\n",
        "- 라이브러리와 같은 개념"
      ],
      "metadata": {
        "id": "T9mYi_lfCYzP"
      }
    },
    {
      "cell_type": "markdown",
      "source": [
        "## 1) 파이썬 모듈 사용하기\n",
        "- import datetime\n",
        "- import os\n",
        "- import calendar\n",
        "- import as\n",
        "- from import"
      ],
      "metadata": {
        "id": "wLhxPYoYcl9j"
      }
    },
    {
      "cell_type": "code",
      "source": [],
      "metadata": {
        "id": "ma4ZrYZTUcKg"
      },
      "execution_count": null,
      "outputs": []
    },
    {
      "cell_type": "markdown",
      "source": [
        "#클래스"
      ],
      "metadata": {
        "id": "peY_d2aaXjai"
      }
    },
    {
      "cell_type": "markdown",
      "source": [
        "## 1) 클래스소개\n",
        "### 절차지향 프로그래밍 vs 객체지향 프로그래밍\n",
        "### 클래스와 객체"
      ],
      "metadata": {
        "id": "wjwTJQGsoMMo"
      }
    },
    {
      "cell_type": "code",
      "source": [
        "# 점프 투 파이썬 클래스 이해 https://wikidocs.net/28"
      ],
      "metadata": {
        "id": "KGSEDrKtWZ0l"
      },
      "execution_count": null,
      "outputs": []
    },
    {
      "cell_type": "markdown",
      "source": [
        "## 2) 클래스 정의\n"
      ],
      "metadata": {
        "id": "sDFK7jzooN17"
      }
    },
    {
      "cell_type": "markdown",
      "source": [
        "## 3) 클래스와 메서드"
      ],
      "metadata": {
        "id": "Ij7GrAL6oPeP"
      }
    },
    {
      "cell_type": "markdown",
      "source": [
        "## 4) 파이썬 클래스 self 이해하기"
      ],
      "metadata": {
        "id": "LeNFfK_LoQ_C"
      }
    },
    {
      "cell_type": "markdown",
      "source": [
        "## 5) 메서드 호출방식"
      ],
      "metadata": {
        "id": "MXHO1t3AoS3e"
      }
    },
    {
      "cell_type": "markdown",
      "source": [
        "## 6) 생성자"
      ],
      "metadata": {
        "id": "arq4FGOKoUX4"
      }
    },
    {
      "cell_type": "markdown",
      "source": [
        "## 7) 클래스 상속"
      ],
      "metadata": {
        "id": "kv9FnFVToWC9"
      }
    },
    {
      "cell_type": "markdown",
      "source": [
        "# 파일"
      ],
      "metadata": {
        "id": "m1Nyp1wBCcu1"
      }
    },
    {
      "cell_type": "markdown",
      "source": [
        "## 1) 파이썬으로 파일 쓰기\n",
        "- f = open(경로와 파일명, 모드)  w 쓰기모드\n",
        "- f.write()\n",
        "- f.close()\n",
        "\n",
        "### with 키워드\n",
        "- with open(파일명, 모드) as file:\n",
        "  \n",
        "  file.write(내용)"
      ],
      "metadata": {
        "id": "Ur1IemPfoZU7"
      }
    },
    {
      "cell_type": "markdown",
      "source": [
        "## 2) 파이썬으로 파일 읽기\n",
        "- with open(파일명, 모드r) as file:\n",
        "\n",
        " txt  = file.read()\n",
        "\n",
        " print(txt)\n",
        "\n",
        " print(type(txt))"
      ],
      "metadata": {
        "id": "Tx7jGOZbob7S"
      }
    },
    {
      "cell_type": "markdown",
      "source": [
        "# 예외처리"
      ],
      "metadata": {
        "id": "IZc5_NJWCeu5"
      }
    },
    {
      "cell_type": "markdown",
      "source": [
        "## 1) 예외처리\n",
        "### error\n",
        "- 프로그램 실행 전(Syntax Error)\n",
        "- 프로그램 실행 중(Runtime Error)\n",
        "\n",
        "### 예외처리\n",
        "- 조건문\n",
        "- try문\n",
        "- try ~ except:\n",
        "- try ~ except ~ else:\n",
        "- try ~ except ~ else ~ finally:"
      ],
      "metadata": {
        "id": "9p35gd9yoe9b"
      }
    }
  ]
}